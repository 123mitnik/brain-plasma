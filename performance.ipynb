{
 "cells": [
  {
   "cell_type": "markdown",
   "metadata": {},
   "source": [
    "# `brain-plasma` performance"
   ]
  },
  {
   "cell_type": "code",
   "execution_count": 3,
   "metadata": {},
   "outputs": [
    {
     "name": "stdout",
     "output_type": "stream",
     "text": [
      "-------- Saving large objects - 10,000,000x10 DataFrame of integers --------\n",
      "0.0021 || in-memory || 1 || x = 5\n",
      "0.0021 || in-memory || 2 || x = 5\n",
      "0.0012 || in-memory || 3 || x = 5\n",
      "3228.8871 || pickle || 1 || pickle.dump(pd.DataFrame({a:range(10000000) for a in 'abcdefghij'}),open('test.pkl','wb'))\n",
      "2949.3291 || pickle || 2 || pickle.dump(pd.DataFrame({a:range(10000000) for a in 'abcdefghij'}),open('test.pkl','wb'))\n",
      "2876.519 || pickle || 3 || pickle.dump(pd.DataFrame({a:range(10000000) for a in 'abcdefghij'}),open('test.pkl','wb'))\n",
      "863.3139 || brain-plasma || 1 || brain['x'] = pd.DataFrame({a:range(10000000) for a in 'abcdefghij'})\n",
      "751.3571 || brain-plasma || 2 || brain['x'] = pd.DataFrame({a:range(10000000) for a in 'abcdefghij'})\n",
      "779.609 || brain-plasma || 3 || brain['x'] = pd.DataFrame({a:range(10000000) for a in 'abcdefghij'})\n",
      "-------- Loading large objects - 10,000,000x10 DataFrame of integers --------\n",
      "0.0012 || in-memory || 1 || y = x\n",
      "0.001 || in-memory || 2 || y = x\n",
      "0.0012 || in-memory || 3 || y = x\n",
      "913.0511 || pickle || 1 || y = pickle.load(open('test.pkl','rb'))\n",
      "947.2919 || pickle || 2 || y = pickle.load(open('test.pkl','rb'))\n",
      "943.0289 || pickle || 3 || y = pickle.load(open('test.pkl','rb'))\n",
      "57.759 || brain-plasma || 1 || y = brain['x']\n",
      "1.265 || brain-plasma || 2 || y = brain['x']\n",
      "0.9339 || brain-plasma || 3 || y = brain['x']\n",
      "-------- Saving small objects - a single string \"this is the test string\" --------\n",
      "0.005 || in-memory || 1 || x = \"this is the test string\"\n",
      "0.001 || in-memory || 2 || x = \"this is the test string\"\n",
      "0.001 || in-memory || 3 || x = \"this is the test string\"\n",
      "0.752 || pickle || 1 || pickle.dump('this is the test string',open('test.pkl','wb'))\n",
      "0.3889 || pickle || 2 || pickle.dump('this is the test string',open('test.pkl','wb'))\n",
      "0.3672 || pickle || 3 || pickle.dump('this is the test string',open('test.pkl','wb'))\n",
      "871.8269 || brain-plasma || 1 || brain['x'] = pd.DataFrame({a:range(10000000) for a in 'abcdefghij'})\n",
      "768.7981 || brain-plasma || 2 || brain['x'] = pd.DataFrame({a:range(10000000) for a in 'abcdefghij'})\n",
      "767.8869 || brain-plasma || 3 || brain['x'] = pd.DataFrame({a:range(10000000) for a in 'abcdefghij'})\n",
      "-------- Loading small objects - a single string \"this is the test string\" --------\n",
      "0.118 || in-memory || 1 || y = x\n",
      "0.0012 || in-memory || 2 || y = x\n",
      "0.001 || in-memory || 3 || y = x\n",
      "0.612 || pickle || 1 || y = pickle.load(open('test.pkl','rb'))\n",
      "0.246 || pickle || 2 || y = pickle.load(open('test.pkl','rb'))\n",
      "0.0589 || pickle || 3 || y = pickle.load(open('test.pkl','rb'))\n",
      "1.0459 || brain-plasma || 1 || y = brain['x']\n",
      "1.0991 || brain-plasma || 2 || y = brain['x']\n",
      "0.9191 || brain-plasma || 3 || y = brain['x']\n",
      "-------- Saving medium objects - list of 10000 json dictionaries w/random key:values from https://next.json-generator.com/41mO9BHXD --------\n",
      "0.0498 || in-memory || 1 || x = [medium_json for x in range(1000)]\n",
      "0.0501 || in-memory || 2 || x = [medium_json for x in range(1000)]\n",
      "0.0482 || in-memory || 3 || x = [medium_json for x in range(1000)]\n",
      "0.8268 || pickle || 1 || pickle.dump([medium_json for x in range(1000)],open('test.pkl','wb'))\n",
      "0.8042 || pickle || 2 || pickle.dump([medium_json for x in range(1000)],open('test.pkl','wb'))\n",
      "0.4952 || pickle || 3 || pickle.dump([medium_json for x in range(1000)],open('test.pkl','wb'))\n",
      "131.772 || brain-plasma || 1 || brain['x'] = [medium_json for x in range(1000)]\n",
      "115.984 || brain-plasma || 2 || brain['x'] = [medium_json for x in range(1000)]\n",
      "116.6363 || brain-plasma || 3 || brain['x'] = [medium_json for x in range(1000)]\n",
      "-------- Loading medium objects - a single string \"this is the test string\" --------\n",
      "0.0901 || in-memory || 1 || y = x\n",
      "0.001 || in-memory || 2 || y = x\n",
      "0.001 || in-memory || 3 || y = x\n",
      "0.3891 || pickle || 1 || y = pickle.load(open('test.pkl','rb'))\n",
      "0.617 || pickle || 2 || y = pickle.load(open('test.pkl','rb'))\n",
      "0.891 || pickle || 3 || y = pickle.load(open('test.pkl','rb'))\n",
      "187.7887 || brain-plasma || 1 || y = brain['x']\n",
      "312.3178 || brain-plasma || 2 || y = brain['x']\n",
      "236.6722 || brain-plasma || 3 || y = brain['x']\n"
     ]
    }
   ],
   "source": [
    "from brain_plasma import Brain\n",
    "import numpy as np\n",
    "import pandas as pd\n",
    "import pickle\n",
    "import os\n",
    "import time\n",
    "\n",
    "# utilities\n",
    "def show(t,method,code_string,n):\n",
    "    print(' || '.join([str(x) for x in [round((time.time()-t)*1000,4), method, n, code_string]]))\n",
    "\n",
    "s = '--------'\n",
    "mem,pic,bra = ('in-memory','pickle','brain-plasma')\n",
    "brain = Brain() # 1.5GB\n",
    "track = pd.DataFrame(columns=['task','method','time','round','code'])\n",
    "i = 0\n",
    "\n",
    "\n",
    "print(s,'Saving large objects - 10,000,000x10 DataFrame of integers',s)\n",
    "task = 'save large'\n",
    "\n",
    "method = mem\n",
    "code = 'x = 5'\n",
    "for n in [1,2,3]:\n",
    "    start = time.time()\n",
    "    x = 5\n",
    "    show(start,method,code,n)\n",
    "    track.loc[i] = [task,method,round((time.time()-start)*1000,4),n,code]\n",
    "    i+=1\n",
    "\n",
    "\n",
    "method = pic\n",
    "code = \"pickle.dump(pd.DataFrame({a:range(10000000) for a in 'abcdefghij'}),open('test.pkl','wb'))\"\n",
    "for n in [1,2,3]:\n",
    "    start = time.time()\n",
    "    pickle.dump(pd.DataFrame({a:range(10000000) for a in 'abcdefghij'}),open('test.pkl','wb'))\n",
    "    show(start,method,code,n)\n",
    "    track.loc[i] = [task,method,round((time.time()-start)*1000,4),n,code]\n",
    "    i+=1\n",
    "\n",
    "\n",
    "method = bra\n",
    "code = \"brain['x'] = pd.DataFrame({a:range(10000000) for a in 'abcdefghij'})\"\n",
    "for n in (1,2,3):\n",
    "    start = time.time()\n",
    "    brain['x'] = pd.DataFrame({a:range(10000000) for a in 'abcdefghij'})\n",
    "    show(start,method,code,n)\n",
    "    track.loc[i] = [task,method,round((time.time()-start)*1000,4),n,code]\n",
    "    i+=1\n",
    "\n",
    "\n",
    "print(s,'Loading large objects - 10,000,000x10 DataFrame of integers',s)\n",
    "task = 'load large'\n",
    "\n",
    "method = mem\n",
    "code = 'y = x'\n",
    "for n in [1,2,3]:\n",
    "    start = time.time()\n",
    "    y = x\n",
    "    show(start,method,code,n)\n",
    "    track.loc[i] = [task,method,round((time.time()-start)*1000,4),n,code]\n",
    "    i+=1\n",
    "\n",
    "method = pic\n",
    "code = \"y = pickle.load(open('test.pkl','rb'))\"\n",
    "for n in [1,2,3]:\n",
    "    start = time.time()\n",
    "    y = pickle.load(open('test.pkl','rb'))\n",
    "    show(start,method,code,n)\n",
    "    track.loc[i] = [task,method,round((time.time()-start)*1000,4),n,code]\n",
    "    i+=1\n",
    "\n",
    "method = bra\n",
    "code = \"y = brain['x']\"\n",
    "for n in (1,2,3):\n",
    "    start = time.time()\n",
    "    y = brain['x']\n",
    "    show(start,method,code,n)\n",
    "    track.loc[i] = [task,method,round((time.time()-start)*1000,4),n,code]\n",
    "    i+=1\n",
    "\n",
    "\n",
    "\n",
    "\n",
    "\n",
    "\n",
    "\n",
    "\n",
    "\n",
    "\n",
    "print(s,'Saving small objects - a single string \"this is the test string\"',s)\n",
    "brain.forget('x')\n",
    "os.remove('test.pkl')\n",
    "task = 'save small'\n",
    "\n",
    "method = mem\n",
    "code = 'x = \"this is the test string\"'\n",
    "for n in [1,2,3]:\n",
    "    start = time.time()\n",
    "    x = \"this is the test string\"\n",
    "    show(start,method,code,n)\n",
    "    track.loc[i] = [task,method,round((time.time()-start)*1000,4),n,code]\n",
    "    i+=1\n",
    "\n",
    "method = pic\n",
    "code = \"pickle.dump('this is the test string',open('test.pkl','wb'))\"\n",
    "for n in [1,2,3]:\n",
    "    start = time.time()\n",
    "    pickle.dump('this is the test string',open('test.pkl','wb'))\n",
    "    show(start,method,code,n)\n",
    "    track.loc[i] = [task,method,round((time.time()-start)*1000,4),n,code]\n",
    "    i+=1\n",
    "\n",
    "method = bra\n",
    "code = \"brain['x'] = pd.DataFrame({a:range(10000000) for a in 'abcdefghij'})\"\n",
    "for n in (1,2,3):\n",
    "    start = time.time()\n",
    "    brain['x'] = pd.DataFrame({a:range(10000000) for a in 'abcdefghij'})\n",
    "    show(start,method,code,n)\n",
    "    track.loc[i] = [task,method,round((time.time()-start)*1000,4),n,code]\n",
    "    i+=1\n",
    "\n",
    "\n",
    "print(s,'Loading small objects - a single string \"this is the test string\"',s)\n",
    "task = 'load small'\n",
    "\n",
    "method = mem\n",
    "code = 'y = x'\n",
    "for n in [1,2,3]:\n",
    "    start = time.time()\n",
    "    y = x\n",
    "    show(start,method,code,n)\n",
    "    track.loc[i] = [task,method,round((time.time()-start)*1000,4),n,code]\n",
    "    i+=1\n",
    "\n",
    "method = pic\n",
    "code = \"y = pickle.load(open('test.pkl','rb'))\"\n",
    "for n in [1,2,3]:\n",
    "    start = time.time()\n",
    "    y = pickle.load(open('test.pkl','rb'))\n",
    "    show(start,method,code,n)\n",
    "    track.loc[i] = [task,method,round((time.time()-start)*1000,4),n,code]\n",
    "    i+=1\n",
    "\n",
    "method = bra\n",
    "code = \"y = brain['x']\"\n",
    "for n in (1,2,3):\n",
    "    start = time.time()\n",
    "    y = brain['x']\n",
    "    show(start,method,code,n)\n",
    "    track.loc[i] = [task,method,round((time.time()-start)*1000,4),n,code]\n",
    "    i+=1\n",
    "\n",
    "\n",
    "\n",
    "\n",
    "\n",
    "\n",
    "\n",
    "\n",
    "\n",
    "medium_json = {\n",
    "    k:{\n",
    "      \"_id\": \"5d4c5b531211cb59f55e0562\",\n",
    "      \"index\": 0,\n",
    "      \"guid\": \"855bad44-23f2-4353-acfe-d8e24fed1486\",\n",
    "      \"isActive\": True,\n",
    "      \"balance\": \"$3,840.16\",\n",
    "      \"picture\": \"http://placehold.it/32x32\",\n",
    "      \"age\": 21,\n",
    "      \"eyeColor\": \"green\",\n",
    "      \"name\": {\n",
    "        \"first\": \"Mcgowan\",\n",
    "        \"last\": \"Conway\"\n",
    "      },\n",
    "      \"company\": \"AQUACINE\",\n",
    "      \"email\": \"mcgowan.conway@aquacine.us\",\n",
    "      \"phone\": \"+1 (999) 447-2069\",\n",
    "      \"address\": \"655 Boynton Place, Nutrioso, Florida, 9478\",\n",
    "      \"about\": \"Consequat do exercitation incididunt irure sit dolor aliquip amet sunt qui quis fugiat cillum. Aliquip irure enim ullamco tempor ullamco consectetur adipisicing deserunt aliqua tempor exercitation. Aliquip occaecat sit nisi Lorem. Magna incididunt dolor fugiat aliquip commodo eiusmod elit ea occaecat elit elit veniam. Consequat tempor aliquip voluptate sunt exercitation sit adipisicing. Anim consequat officia dolor veniam aliquip voluptate proident tempor Lorem quis nisi dolore.\",\n",
    "      \"registered\": \"Monday, October 6, 2014 12:32 PM\",\n",
    "      \"latitude\": \"65.583401\",\n",
    "      \"longitude\": \"-61.690822\",\n",
    "      \"tags\": [\n",
    "        \"voluptate\",\n",
    "        \"ipsum\",\n",
    "        \"exercitation\",\n",
    "        \"tempor\",\n",
    "        \"est\"\n",
    "      ],\n",
    "      \"range\": [\n",
    "        0,1,2,3,4,5,6,7,8,9\n",
    "      ],\n",
    "      \"friends\": [\n",
    "        {\n",
    "          \"id\": 0,\n",
    "          \"name\": \"Michele Thompson\"\n",
    "        },\n",
    "        {\n",
    "          \"id\": 1,\n",
    "          \"name\": \"Ebony Montgomery\"\n",
    "        },\n",
    "        {\n",
    "          \"id\": 2,\n",
    "          \"name\": \"Wolf Alvarez\"\n",
    "        }\n",
    "      ],\n",
    "      \"greeting\": \"Hello, Mcgowan! You have 5 unread messages.\",\n",
    "      \"favoriteFruit\": \"apple\"\n",
    "    }\n",
    "  for k in range(10)\n",
    "}\n",
    "print(s,'Saving medium objects - list of 10000 json dictionaries w/random key:values from https://next.json-generator.com/41mO9BHXD',s)\n",
    "brain.forget('x')\n",
    "os.remove('test.pkl')\n",
    "task = 'save medium'\n",
    "\n",
    "method = mem\n",
    "code = 'x = [medium_json for x in range(1000)]'\n",
    "for n in [1,2,3]:\n",
    "    start = time.time()\n",
    "    x = [medium_json for x in range(1000)]\n",
    "    show(start,method,code,n)\n",
    "    track.loc[i] = [task,method,round((time.time()-start)*1000,4),n,code]\n",
    "    i+=1\n",
    "\n",
    "method = pic\n",
    "code = \"pickle.dump([medium_json for x in range(1000)],open('test.pkl','wb'))\"\n",
    "for n in [1,2,3]:\n",
    "    start = time.time()\n",
    "    pickle.dump([medium_json for x in range(1000)],open('test.pkl','wb'))\n",
    "    show(start,method,code,n)\n",
    "    track.loc[i] = [task,method,round((time.time()-start)*1000,4),n,code]\n",
    "    i+=1\n",
    "\n",
    "method = bra\n",
    "code = \"brain['x'] = [medium_json for x in range(1000)]\"\n",
    "for n in (1,2,3):\n",
    "    start = time.time()\n",
    "    brain['x'] = [medium_json for x in range(1000)]\n",
    "    show(start,method,code,n)\n",
    "    track.loc[i] = [task,method,round((time.time()-start)*1000,4),n,code]\n",
    "    i+=1\n",
    "\n",
    "\n",
    "print(s,'Loading medium objects - a single string \"this is the test string\"',s)\n",
    "task = 'load medium'\n",
    "\n",
    "method = mem\n",
    "code = 'y = x'\n",
    "for n in [1,2,3]:\n",
    "    start = time.time()\n",
    "    y = x\n",
    "    show(start,method,code,n)\n",
    "    track.loc[i] = [task,method,round((time.time()-start)*1000,4),n,code]\n",
    "    i+=1\n",
    "\n",
    "method = pic\n",
    "code = \"y = pickle.load(open('test.pkl','rb'))\"\n",
    "for n in [1,2,3]:\n",
    "    start = time.time()\n",
    "    y = pickle.load(open('test.pkl','rb'))\n",
    "    show(start,method,code,n)\n",
    "    track.loc[i] = [task,method,round((time.time()-start)*1000,4),n,code]\n",
    "    i+=1\n",
    "\n",
    "method = bra\n",
    "code = \"y = brain['x']\"\n",
    "for n in (1,2,3):\n",
    "    start = time.time()\n",
    "    y = brain['x']\n",
    "    show(start,method,code,n)\n",
    "    track.loc[i] = [task,method,round((time.time()-start)*1000,4),n,code]\n",
    "    i+=1"
   ]
  },
  {
   "cell_type": "code",
   "execution_count": 4,
   "metadata": {},
   "outputs": [
    {
     "data": {
      "text/html": [
       "<div>\n",
       "<style scoped>\n",
       "    .dataframe tbody tr th:only-of-type {\n",
       "        vertical-align: middle;\n",
       "    }\n",
       "\n",
       "    .dataframe tbody tr th {\n",
       "        vertical-align: top;\n",
       "    }\n",
       "\n",
       "    .dataframe thead th {\n",
       "        text-align: right;\n",
       "    }\n",
       "</style>\n",
       "<table border=\"1\" class=\"dataframe\">\n",
       "  <thead>\n",
       "    <tr style=\"text-align: right;\">\n",
       "      <th></th>\n",
       "      <th>task</th>\n",
       "      <th>method</th>\n",
       "      <th>time</th>\n",
       "    </tr>\n",
       "  </thead>\n",
       "  <tbody>\n",
       "    <tr>\n",
       "      <th>0</th>\n",
       "      <td>load large</td>\n",
       "      <td>brain-plasma</td>\n",
       "      <td>20.053233</td>\n",
       "    </tr>\n",
       "    <tr>\n",
       "      <th>1</th>\n",
       "      <td>load large</td>\n",
       "      <td>in-memory</td>\n",
       "      <td>0.057367</td>\n",
       "    </tr>\n",
       "    <tr>\n",
       "      <th>2</th>\n",
       "      <td>load large</td>\n",
       "      <td>pickle</td>\n",
       "      <td>934.575033</td>\n",
       "    </tr>\n",
       "    <tr>\n",
       "      <th>3</th>\n",
       "      <td>load medium</td>\n",
       "      <td>brain-plasma</td>\n",
       "      <td>245.856700</td>\n",
       "    </tr>\n",
       "    <tr>\n",
       "      <th>4</th>\n",
       "      <td>load medium</td>\n",
       "      <td>in-memory</td>\n",
       "      <td>0.078933</td>\n",
       "    </tr>\n",
       "    <tr>\n",
       "      <th>5</th>\n",
       "      <td>load medium</td>\n",
       "      <td>pickle</td>\n",
       "      <td>0.691400</td>\n",
       "    </tr>\n",
       "    <tr>\n",
       "      <th>6</th>\n",
       "      <td>load small</td>\n",
       "      <td>brain-plasma</td>\n",
       "      <td>1.066033</td>\n",
       "    </tr>\n",
       "    <tr>\n",
       "      <th>7</th>\n",
       "      <td>load small</td>\n",
       "      <td>in-memory</td>\n",
       "      <td>0.247733</td>\n",
       "    </tr>\n",
       "    <tr>\n",
       "      <th>8</th>\n",
       "      <td>load small</td>\n",
       "      <td>pickle</td>\n",
       "      <td>0.410400</td>\n",
       "    </tr>\n",
       "    <tr>\n",
       "      <th>9</th>\n",
       "      <td>save large</td>\n",
       "      <td>brain-plasma</td>\n",
       "      <td>798.324000</td>\n",
       "    </tr>\n",
       "    <tr>\n",
       "      <th>10</th>\n",
       "      <td>save large</td>\n",
       "      <td>in-memory</td>\n",
       "      <td>0.048000</td>\n",
       "    </tr>\n",
       "    <tr>\n",
       "      <th>11</th>\n",
       "      <td>save large</td>\n",
       "      <td>pickle</td>\n",
       "      <td>3018.355367</td>\n",
       "    </tr>\n",
       "    <tr>\n",
       "      <th>12</th>\n",
       "      <td>save medium</td>\n",
       "      <td>brain-plasma</td>\n",
       "      <td>121.551367</td>\n",
       "    </tr>\n",
       "    <tr>\n",
       "      <th>13</th>\n",
       "      <td>save medium</td>\n",
       "      <td>in-memory</td>\n",
       "      <td>0.118633</td>\n",
       "    </tr>\n",
       "    <tr>\n",
       "      <th>14</th>\n",
       "      <td>save medium</td>\n",
       "      <td>pickle</td>\n",
       "      <td>0.837000</td>\n",
       "    </tr>\n",
       "    <tr>\n",
       "      <th>15</th>\n",
       "      <td>save small</td>\n",
       "      <td>brain-plasma</td>\n",
       "      <td>802.953933</td>\n",
       "    </tr>\n",
       "    <tr>\n",
       "      <th>16</th>\n",
       "      <td>save small</td>\n",
       "      <td>in-memory</td>\n",
       "      <td>0.050767</td>\n",
       "    </tr>\n",
       "    <tr>\n",
       "      <th>17</th>\n",
       "      <td>save small</td>\n",
       "      <td>pickle</td>\n",
       "      <td>0.565267</td>\n",
       "    </tr>\n",
       "  </tbody>\n",
       "</table>\n",
       "</div>"
      ],
      "text/plain": [
       "           task        method         time\n",
       "0    load large  brain-plasma    20.053233\n",
       "1    load large     in-memory     0.057367\n",
       "2    load large        pickle   934.575033\n",
       "3   load medium  brain-plasma   245.856700\n",
       "4   load medium     in-memory     0.078933\n",
       "5   load medium        pickle     0.691400\n",
       "6    load small  brain-plasma     1.066033\n",
       "7    load small     in-memory     0.247733\n",
       "8    load small        pickle     0.410400\n",
       "9    save large  brain-plasma   798.324000\n",
       "10   save large     in-memory     0.048000\n",
       "11   save large        pickle  3018.355367\n",
       "12  save medium  brain-plasma   121.551367\n",
       "13  save medium     in-memory     0.118633\n",
       "14  save medium        pickle     0.837000\n",
       "15   save small  brain-plasma   802.953933\n",
       "16   save small     in-memory     0.050767\n",
       "17   save small        pickle     0.565267"
      ]
     },
     "execution_count": 4,
     "metadata": {},
     "output_type": "execute_result"
    }
   ],
   "source": [
    "compare = pd.DataFrame(track.groupby(['task','method']).time.mean()).reset_index()\n",
    "compare"
   ]
  },
  {
   "cell_type": "code",
   "execution_count": 14,
   "metadata": {},
   "outputs": [],
   "source": [
    "compare['size'] = [ x.split()[1] for x in compare['task']]\n",
    "compare['task'] = [x.split()[0] for x in compare['task']]"
   ]
  },
  {
   "cell_type": "code",
   "execution_count": 16,
   "metadata": {
    "scrolled": true
   },
   "outputs": [
    {
     "data": {
      "text/plain": [
       "{'task': {0: 'load',\n",
       "  1: 'load',\n",
       "  2: 'load',\n",
       "  3: 'load',\n",
       "  4: 'load',\n",
       "  5: 'load',\n",
       "  6: 'load',\n",
       "  7: 'load',\n",
       "  8: 'load',\n",
       "  9: 'save',\n",
       "  10: 'save',\n",
       "  11: 'save',\n",
       "  12: 'save',\n",
       "  13: 'save',\n",
       "  14: 'save',\n",
       "  15: 'save',\n",
       "  16: 'save',\n",
       "  17: 'save'},\n",
       " 'method': {0: 'brain-plasma',\n",
       "  1: 'in-memory',\n",
       "  2: 'pickle',\n",
       "  3: 'brain-plasma',\n",
       "  4: 'in-memory',\n",
       "  5: 'pickle',\n",
       "  6: 'brain-plasma',\n",
       "  7: 'in-memory',\n",
       "  8: 'pickle',\n",
       "  9: 'brain-plasma',\n",
       "  10: 'in-memory',\n",
       "  11: 'pickle',\n",
       "  12: 'brain-plasma',\n",
       "  13: 'in-memory',\n",
       "  14: 'pickle',\n",
       "  15: 'brain-plasma',\n",
       "  16: 'in-memory',\n",
       "  17: 'pickle'},\n",
       " 'time': {0: 20.05323333333333,\n",
       "  1: 0.05736666666666667,\n",
       "  2: 934.5750333333332,\n",
       "  3: 245.85669999999996,\n",
       "  4: 0.07893333333333334,\n",
       "  5: 0.6913999999999999,\n",
       "  6: 1.0660333333333334,\n",
       "  7: 0.24773333333333336,\n",
       "  8: 0.41040000000000004,\n",
       "  9: 798.324,\n",
       "  10: 0.04800000000000001,\n",
       "  11: 3018.3553666666667,\n",
       "  12: 121.55136666666665,\n",
       "  13: 0.11863333333333333,\n",
       "  14: 0.8370000000000001,\n",
       "  15: 802.9539333333333,\n",
       "  16: 0.05076666666666666,\n",
       "  17: 0.5652666666666667},\n",
       " 'size': {0: 'large',\n",
       "  1: 'large',\n",
       "  2: 'large',\n",
       "  3: 'medium',\n",
       "  4: 'medium',\n",
       "  5: 'medium',\n",
       "  6: 'small',\n",
       "  7: 'small',\n",
       "  8: 'small',\n",
       "  9: 'large',\n",
       "  10: 'large',\n",
       "  11: 'large',\n",
       "  12: 'medium',\n",
       "  13: 'medium',\n",
       "  14: 'medium',\n",
       "  15: 'small',\n",
       "  16: 'small',\n",
       "  17: 'small'}}"
      ]
     },
     "execution_count": 16,
     "metadata": {},
     "output_type": "execute_result"
    }
   ],
   "source": [
    "d = compare.to_dict()\n",
    "d"
   ]
  },
  {
   "cell_type": "code",
   "execution_count": 2,
   "metadata": {},
   "outputs": [],
   "source": [
    "import plotly as py\n",
    "import plotly.graph_objects as go\n",
    "import plotly.express as px"
   ]
  },
  {
   "cell_type": "code",
   "execution_count": 20,
   "metadata": {},
   "outputs": [
    {
     "data": {
      "application/vnd.plotly.v1+json": {
       "config": {
        "plotlyServerURL": "https://plot.ly"
       },
       "data": [
        {
         "alignmentgroup": "True",
         "hoverlabel": {
          "namelength": 0
         },
         "hovertemplate": "method=%{x}<br>size=large<br>task=load<br>time=%{y}",
         "legendgroup": "method=brain-plasma",
         "marker": {
          "color": "#636efa"
         },
         "name": "method=brain-plasma",
         "offsetgroup": "method=brain-plasma",
         "orientation": "v",
         "showlegend": true,
         "textposition": "auto",
         "type": "bar",
         "x": [
          "brain-plasma"
         ],
         "xaxis": "x",
         "y": [
          20.05323333333333
         ],
         "yaxis": "y"
        },
        {
         "alignmentgroup": "True",
         "hoverlabel": {
          "namelength": 0
         },
         "hovertemplate": "method=%{x}<br>size=large<br>task=save<br>time=%{y}",
         "legendgroup": "method=brain-plasma",
         "marker": {
          "color": "#636efa"
         },
         "name": "method=brain-plasma",
         "offsetgroup": "method=brain-plasma",
         "orientation": "v",
         "showlegend": false,
         "textposition": "auto",
         "type": "bar",
         "x": [
          "brain-plasma"
         ],
         "xaxis": "x2",
         "y": [
          798.324
         ],
         "yaxis": "y2"
        },
        {
         "alignmentgroup": "True",
         "hoverlabel": {
          "namelength": 0
         },
         "hovertemplate": "method=%{x}<br>size=medium<br>task=load<br>time=%{y}",
         "legendgroup": "method=brain-plasma",
         "marker": {
          "color": "#636efa"
         },
         "name": "method=brain-plasma",
         "offsetgroup": "method=brain-plasma",
         "orientation": "v",
         "showlegend": false,
         "textposition": "auto",
         "type": "bar",
         "x": [
          "brain-plasma"
         ],
         "xaxis": "x3",
         "y": [
          245.85669999999996
         ],
         "yaxis": "y3"
        },
        {
         "alignmentgroup": "True",
         "hoverlabel": {
          "namelength": 0
         },
         "hovertemplate": "method=%{x}<br>size=medium<br>task=save<br>time=%{y}",
         "legendgroup": "method=brain-plasma",
         "marker": {
          "color": "#636efa"
         },
         "name": "method=brain-plasma",
         "offsetgroup": "method=brain-plasma",
         "orientation": "v",
         "showlegend": false,
         "textposition": "auto",
         "type": "bar",
         "x": [
          "brain-plasma"
         ],
         "xaxis": "x4",
         "y": [
          121.55136666666665
         ],
         "yaxis": "y4"
        },
        {
         "alignmentgroup": "True",
         "hoverlabel": {
          "namelength": 0
         },
         "hovertemplate": "method=%{x}<br>size=small<br>task=load<br>time=%{y}",
         "legendgroup": "method=brain-plasma",
         "marker": {
          "color": "#636efa"
         },
         "name": "method=brain-plasma",
         "offsetgroup": "method=brain-plasma",
         "orientation": "v",
         "showlegend": false,
         "textposition": "auto",
         "type": "bar",
         "x": [
          "brain-plasma"
         ],
         "xaxis": "x5",
         "y": [
          1.0660333333333334
         ],
         "yaxis": "y5"
        },
        {
         "alignmentgroup": "True",
         "hoverlabel": {
          "namelength": 0
         },
         "hovertemplate": "method=%{x}<br>size=small<br>task=save<br>time=%{y}",
         "legendgroup": "method=brain-plasma",
         "marker": {
          "color": "#636efa"
         },
         "name": "method=brain-plasma",
         "offsetgroup": "method=brain-plasma",
         "orientation": "v",
         "showlegend": false,
         "textposition": "auto",
         "type": "bar",
         "x": [
          "brain-plasma"
         ],
         "xaxis": "x6",
         "y": [
          802.9539333333333
         ],
         "yaxis": "y6"
        },
        {
         "alignmentgroup": "True",
         "hoverlabel": {
          "namelength": 0
         },
         "hovertemplate": "method=%{x}<br>size=large<br>task=load<br>time=%{y}",
         "legendgroup": "method=in-memory",
         "marker": {
          "color": "#EF553B"
         },
         "name": "method=in-memory",
         "offsetgroup": "method=in-memory",
         "orientation": "v",
         "showlegend": true,
         "textposition": "auto",
         "type": "bar",
         "x": [
          "in-memory"
         ],
         "xaxis": "x",
         "y": [
          0.05736666666666667
         ],
         "yaxis": "y"
        },
        {
         "alignmentgroup": "True",
         "hoverlabel": {
          "namelength": 0
         },
         "hovertemplate": "method=%{x}<br>size=large<br>task=save<br>time=%{y}",
         "legendgroup": "method=in-memory",
         "marker": {
          "color": "#EF553B"
         },
         "name": "method=in-memory",
         "offsetgroup": "method=in-memory",
         "orientation": "v",
         "showlegend": false,
         "textposition": "auto",
         "type": "bar",
         "x": [
          "in-memory"
         ],
         "xaxis": "x2",
         "y": [
          0.04800000000000001
         ],
         "yaxis": "y2"
        },
        {
         "alignmentgroup": "True",
         "hoverlabel": {
          "namelength": 0
         },
         "hovertemplate": "method=%{x}<br>size=medium<br>task=load<br>time=%{y}",
         "legendgroup": "method=in-memory",
         "marker": {
          "color": "#EF553B"
         },
         "name": "method=in-memory",
         "offsetgroup": "method=in-memory",
         "orientation": "v",
         "showlegend": false,
         "textposition": "auto",
         "type": "bar",
         "x": [
          "in-memory"
         ],
         "xaxis": "x3",
         "y": [
          0.07893333333333334
         ],
         "yaxis": "y3"
        },
        {
         "alignmentgroup": "True",
         "hoverlabel": {
          "namelength": 0
         },
         "hovertemplate": "method=%{x}<br>size=medium<br>task=save<br>time=%{y}",
         "legendgroup": "method=in-memory",
         "marker": {
          "color": "#EF553B"
         },
         "name": "method=in-memory",
         "offsetgroup": "method=in-memory",
         "orientation": "v",
         "showlegend": false,
         "textposition": "auto",
         "type": "bar",
         "x": [
          "in-memory"
         ],
         "xaxis": "x4",
         "y": [
          0.11863333333333333
         ],
         "yaxis": "y4"
        },
        {
         "alignmentgroup": "True",
         "hoverlabel": {
          "namelength": 0
         },
         "hovertemplate": "method=%{x}<br>size=small<br>task=load<br>time=%{y}",
         "legendgroup": "method=in-memory",
         "marker": {
          "color": "#EF553B"
         },
         "name": "method=in-memory",
         "offsetgroup": "method=in-memory",
         "orientation": "v",
         "showlegend": false,
         "textposition": "auto",
         "type": "bar",
         "x": [
          "in-memory"
         ],
         "xaxis": "x5",
         "y": [
          0.24773333333333336
         ],
         "yaxis": "y5"
        },
        {
         "alignmentgroup": "True",
         "hoverlabel": {
          "namelength": 0
         },
         "hovertemplate": "method=%{x}<br>size=small<br>task=save<br>time=%{y}",
         "legendgroup": "method=in-memory",
         "marker": {
          "color": "#EF553B"
         },
         "name": "method=in-memory",
         "offsetgroup": "method=in-memory",
         "orientation": "v",
         "showlegend": false,
         "textposition": "auto",
         "type": "bar",
         "x": [
          "in-memory"
         ],
         "xaxis": "x6",
         "y": [
          0.05076666666666666
         ],
         "yaxis": "y6"
        },
        {
         "alignmentgroup": "True",
         "hoverlabel": {
          "namelength": 0
         },
         "hovertemplate": "method=%{x}<br>size=large<br>task=load<br>time=%{y}",
         "legendgroup": "method=pickle",
         "marker": {
          "color": "#00cc96"
         },
         "name": "method=pickle",
         "offsetgroup": "method=pickle",
         "orientation": "v",
         "showlegend": true,
         "textposition": "auto",
         "type": "bar",
         "x": [
          "pickle"
         ],
         "xaxis": "x",
         "y": [
          934.5750333333332
         ],
         "yaxis": "y"
        },
        {
         "alignmentgroup": "True",
         "hoverlabel": {
          "namelength": 0
         },
         "hovertemplate": "method=%{x}<br>size=large<br>task=save<br>time=%{y}",
         "legendgroup": "method=pickle",
         "marker": {
          "color": "#00cc96"
         },
         "name": "method=pickle",
         "offsetgroup": "method=pickle",
         "orientation": "v",
         "showlegend": false,
         "textposition": "auto",
         "type": "bar",
         "x": [
          "pickle"
         ],
         "xaxis": "x2",
         "y": [
          3018.3553666666667
         ],
         "yaxis": "y2"
        },
        {
         "alignmentgroup": "True",
         "hoverlabel": {
          "namelength": 0
         },
         "hovertemplate": "method=%{x}<br>size=medium<br>task=load<br>time=%{y}",
         "legendgroup": "method=pickle",
         "marker": {
          "color": "#00cc96"
         },
         "name": "method=pickle",
         "offsetgroup": "method=pickle",
         "orientation": "v",
         "showlegend": false,
         "textposition": "auto",
         "type": "bar",
         "x": [
          "pickle"
         ],
         "xaxis": "x3",
         "y": [
          0.6913999999999999
         ],
         "yaxis": "y3"
        },
        {
         "alignmentgroup": "True",
         "hoverlabel": {
          "namelength": 0
         },
         "hovertemplate": "method=%{x}<br>size=medium<br>task=save<br>time=%{y}",
         "legendgroup": "method=pickle",
         "marker": {
          "color": "#00cc96"
         },
         "name": "method=pickle",
         "offsetgroup": "method=pickle",
         "orientation": "v",
         "showlegend": false,
         "textposition": "auto",
         "type": "bar",
         "x": [
          "pickle"
         ],
         "xaxis": "x4",
         "y": [
          0.8370000000000001
         ],
         "yaxis": "y4"
        },
        {
         "alignmentgroup": "True",
         "hoverlabel": {
          "namelength": 0
         },
         "hovertemplate": "method=%{x}<br>size=small<br>task=load<br>time=%{y}",
         "legendgroup": "method=pickle",
         "marker": {
          "color": "#00cc96"
         },
         "name": "method=pickle",
         "offsetgroup": "method=pickle",
         "orientation": "v",
         "showlegend": false,
         "textposition": "auto",
         "type": "bar",
         "x": [
          "pickle"
         ],
         "xaxis": "x5",
         "y": [
          0.41040000000000004
         ],
         "yaxis": "y5"
        },
        {
         "alignmentgroup": "True",
         "hoverlabel": {
          "namelength": 0
         },
         "hovertemplate": "method=%{x}<br>size=small<br>task=save<br>time=%{y}",
         "legendgroup": "method=pickle",
         "marker": {
          "color": "#00cc96"
         },
         "name": "method=pickle",
         "offsetgroup": "method=pickle",
         "orientation": "v",
         "showlegend": false,
         "textposition": "auto",
         "type": "bar",
         "x": [
          "pickle"
         ],
         "xaxis": "x6",
         "y": [
          0.5652666666666667
         ],
         "yaxis": "y6"
        }
       ],
       "layout": {
        "annotations": [
         {
          "font": {},
          "showarrow": false,
          "text": "task=load",
          "x": 0.24,
          "xanchor": "center",
          "xref": "paper",
          "y": 0.9999999999999998,
          "yanchor": "bottom",
          "yref": "paper"
         },
         {
          "font": {},
          "showarrow": false,
          "text": "task=save",
          "x": 0.74,
          "xanchor": "center",
          "xref": "paper",
          "y": 0.9999999999999998,
          "yanchor": "bottom",
          "yref": "paper"
         },
         {
          "font": {},
          "showarrow": false,
          "text": "size=small",
          "textangle": 90,
          "x": 0.98,
          "xanchor": "left",
          "xref": "paper",
          "y": 0.15666666666666665,
          "yanchor": "middle",
          "yref": "paper"
         },
         {
          "font": {},
          "showarrow": false,
          "text": "size=medium",
          "textangle": 90,
          "x": 0.98,
          "xanchor": "left",
          "xref": "paper",
          "y": 0.4999999999999999,
          "yanchor": "middle",
          "yref": "paper"
         },
         {
          "font": {},
          "showarrow": false,
          "text": "size=large",
          "textangle": 90,
          "x": 0.98,
          "xanchor": "left",
          "xref": "paper",
          "y": 0.8433333333333332,
          "yanchor": "middle",
          "yref": "paper"
         }
        ],
        "barmode": "relative",
        "height": 600,
        "legend": {
         "tracegroupgap": 0
        },
        "margin": {
         "t": 60
        },
        "template": {
         "data": {
          "bar": [
           {
            "error_x": {
             "color": "#2a3f5f"
            },
            "error_y": {
             "color": "#2a3f5f"
            },
            "marker": {
             "line": {
              "color": "#E5ECF6",
              "width": 0.5
             }
            },
            "type": "bar"
           }
          ],
          "barpolar": [
           {
            "marker": {
             "line": {
              "color": "#E5ECF6",
              "width": 0.5
             }
            },
            "type": "barpolar"
           }
          ],
          "carpet": [
           {
            "aaxis": {
             "endlinecolor": "#2a3f5f",
             "gridcolor": "white",
             "linecolor": "white",
             "minorgridcolor": "white",
             "startlinecolor": "#2a3f5f"
            },
            "baxis": {
             "endlinecolor": "#2a3f5f",
             "gridcolor": "white",
             "linecolor": "white",
             "minorgridcolor": "white",
             "startlinecolor": "#2a3f5f"
            },
            "type": "carpet"
           }
          ],
          "choropleth": [
           {
            "colorbar": {
             "outlinewidth": 0,
             "ticks": ""
            },
            "type": "choropleth"
           }
          ],
          "contour": [
           {
            "colorbar": {
             "outlinewidth": 0,
             "ticks": ""
            },
            "colorscale": [
             [
              0,
              "#0d0887"
             ],
             [
              0.1111111111111111,
              "#46039f"
             ],
             [
              0.2222222222222222,
              "#7201a8"
             ],
             [
              0.3333333333333333,
              "#9c179e"
             ],
             [
              0.4444444444444444,
              "#bd3786"
             ],
             [
              0.5555555555555556,
              "#d8576b"
             ],
             [
              0.6666666666666666,
              "#ed7953"
             ],
             [
              0.7777777777777778,
              "#fb9f3a"
             ],
             [
              0.8888888888888888,
              "#fdca26"
             ],
             [
              1,
              "#f0f921"
             ]
            ],
            "type": "contour"
           }
          ],
          "contourcarpet": [
           {
            "colorbar": {
             "outlinewidth": 0,
             "ticks": ""
            },
            "type": "contourcarpet"
           }
          ],
          "heatmap": [
           {
            "colorbar": {
             "outlinewidth": 0,
             "ticks": ""
            },
            "colorscale": [
             [
              0,
              "#0d0887"
             ],
             [
              0.1111111111111111,
              "#46039f"
             ],
             [
              0.2222222222222222,
              "#7201a8"
             ],
             [
              0.3333333333333333,
              "#9c179e"
             ],
             [
              0.4444444444444444,
              "#bd3786"
             ],
             [
              0.5555555555555556,
              "#d8576b"
             ],
             [
              0.6666666666666666,
              "#ed7953"
             ],
             [
              0.7777777777777778,
              "#fb9f3a"
             ],
             [
              0.8888888888888888,
              "#fdca26"
             ],
             [
              1,
              "#f0f921"
             ]
            ],
            "type": "heatmap"
           }
          ],
          "heatmapgl": [
           {
            "colorbar": {
             "outlinewidth": 0,
             "ticks": ""
            },
            "colorscale": [
             [
              0,
              "#0d0887"
             ],
             [
              0.1111111111111111,
              "#46039f"
             ],
             [
              0.2222222222222222,
              "#7201a8"
             ],
             [
              0.3333333333333333,
              "#9c179e"
             ],
             [
              0.4444444444444444,
              "#bd3786"
             ],
             [
              0.5555555555555556,
              "#d8576b"
             ],
             [
              0.6666666666666666,
              "#ed7953"
             ],
             [
              0.7777777777777778,
              "#fb9f3a"
             ],
             [
              0.8888888888888888,
              "#fdca26"
             ],
             [
              1,
              "#f0f921"
             ]
            ],
            "type": "heatmapgl"
           }
          ],
          "histogram": [
           {
            "marker": {
             "colorbar": {
              "outlinewidth": 0,
              "ticks": ""
             }
            },
            "type": "histogram"
           }
          ],
          "histogram2d": [
           {
            "colorbar": {
             "outlinewidth": 0,
             "ticks": ""
            },
            "colorscale": [
             [
              0,
              "#0d0887"
             ],
             [
              0.1111111111111111,
              "#46039f"
             ],
             [
              0.2222222222222222,
              "#7201a8"
             ],
             [
              0.3333333333333333,
              "#9c179e"
             ],
             [
              0.4444444444444444,
              "#bd3786"
             ],
             [
              0.5555555555555556,
              "#d8576b"
             ],
             [
              0.6666666666666666,
              "#ed7953"
             ],
             [
              0.7777777777777778,
              "#fb9f3a"
             ],
             [
              0.8888888888888888,
              "#fdca26"
             ],
             [
              1,
              "#f0f921"
             ]
            ],
            "type": "histogram2d"
           }
          ],
          "histogram2dcontour": [
           {
            "colorbar": {
             "outlinewidth": 0,
             "ticks": ""
            },
            "colorscale": [
             [
              0,
              "#0d0887"
             ],
             [
              0.1111111111111111,
              "#46039f"
             ],
             [
              0.2222222222222222,
              "#7201a8"
             ],
             [
              0.3333333333333333,
              "#9c179e"
             ],
             [
              0.4444444444444444,
              "#bd3786"
             ],
             [
              0.5555555555555556,
              "#d8576b"
             ],
             [
              0.6666666666666666,
              "#ed7953"
             ],
             [
              0.7777777777777778,
              "#fb9f3a"
             ],
             [
              0.8888888888888888,
              "#fdca26"
             ],
             [
              1,
              "#f0f921"
             ]
            ],
            "type": "histogram2dcontour"
           }
          ],
          "mesh3d": [
           {
            "colorbar": {
             "outlinewidth": 0,
             "ticks": ""
            },
            "type": "mesh3d"
           }
          ],
          "parcoords": [
           {
            "line": {
             "colorbar": {
              "outlinewidth": 0,
              "ticks": ""
             }
            },
            "type": "parcoords"
           }
          ],
          "scatter": [
           {
            "marker": {
             "colorbar": {
              "outlinewidth": 0,
              "ticks": ""
             }
            },
            "type": "scatter"
           }
          ],
          "scatter3d": [
           {
            "line": {
             "colorbar": {
              "outlinewidth": 0,
              "ticks": ""
             }
            },
            "marker": {
             "colorbar": {
              "outlinewidth": 0,
              "ticks": ""
             }
            },
            "type": "scatter3d"
           }
          ],
          "scattercarpet": [
           {
            "marker": {
             "colorbar": {
              "outlinewidth": 0,
              "ticks": ""
             }
            },
            "type": "scattercarpet"
           }
          ],
          "scattergeo": [
           {
            "marker": {
             "colorbar": {
              "outlinewidth": 0,
              "ticks": ""
             }
            },
            "type": "scattergeo"
           }
          ],
          "scattergl": [
           {
            "marker": {
             "colorbar": {
              "outlinewidth": 0,
              "ticks": ""
             }
            },
            "type": "scattergl"
           }
          ],
          "scattermapbox": [
           {
            "marker": {
             "colorbar": {
              "outlinewidth": 0,
              "ticks": ""
             }
            },
            "type": "scattermapbox"
           }
          ],
          "scatterpolar": [
           {
            "marker": {
             "colorbar": {
              "outlinewidth": 0,
              "ticks": ""
             }
            },
            "type": "scatterpolar"
           }
          ],
          "scatterpolargl": [
           {
            "marker": {
             "colorbar": {
              "outlinewidth": 0,
              "ticks": ""
             }
            },
            "type": "scatterpolargl"
           }
          ],
          "scatterternary": [
           {
            "marker": {
             "colorbar": {
              "outlinewidth": 0,
              "ticks": ""
             }
            },
            "type": "scatterternary"
           }
          ],
          "surface": [
           {
            "colorbar": {
             "outlinewidth": 0,
             "ticks": ""
            },
            "colorscale": [
             [
              0,
              "#0d0887"
             ],
             [
              0.1111111111111111,
              "#46039f"
             ],
             [
              0.2222222222222222,
              "#7201a8"
             ],
             [
              0.3333333333333333,
              "#9c179e"
             ],
             [
              0.4444444444444444,
              "#bd3786"
             ],
             [
              0.5555555555555556,
              "#d8576b"
             ],
             [
              0.6666666666666666,
              "#ed7953"
             ],
             [
              0.7777777777777778,
              "#fb9f3a"
             ],
             [
              0.8888888888888888,
              "#fdca26"
             ],
             [
              1,
              "#f0f921"
             ]
            ],
            "type": "surface"
           }
          ],
          "table": [
           {
            "cells": {
             "fill": {
              "color": "#EBF0F8"
             },
             "line": {
              "color": "white"
             }
            },
            "header": {
             "fill": {
              "color": "#C8D4E3"
             },
             "line": {
              "color": "white"
             }
            },
            "type": "table"
           }
          ]
         },
         "layout": {
          "annotationdefaults": {
           "arrowcolor": "#2a3f5f",
           "arrowhead": 0,
           "arrowwidth": 1
          },
          "colorscale": {
           "diverging": [
            [
             0,
             "#8e0152"
            ],
            [
             0.1,
             "#c51b7d"
            ],
            [
             0.2,
             "#de77ae"
            ],
            [
             0.3,
             "#f1b6da"
            ],
            [
             0.4,
             "#fde0ef"
            ],
            [
             0.5,
             "#f7f7f7"
            ],
            [
             0.6,
             "#e6f5d0"
            ],
            [
             0.7,
             "#b8e186"
            ],
            [
             0.8,
             "#7fbc41"
            ],
            [
             0.9,
             "#4d9221"
            ],
            [
             1,
             "#276419"
            ]
           ],
           "sequential": [
            [
             0,
             "#0d0887"
            ],
            [
             0.1111111111111111,
             "#46039f"
            ],
            [
             0.2222222222222222,
             "#7201a8"
            ],
            [
             0.3333333333333333,
             "#9c179e"
            ],
            [
             0.4444444444444444,
             "#bd3786"
            ],
            [
             0.5555555555555556,
             "#d8576b"
            ],
            [
             0.6666666666666666,
             "#ed7953"
            ],
            [
             0.7777777777777778,
             "#fb9f3a"
            ],
            [
             0.8888888888888888,
             "#fdca26"
            ],
            [
             1,
             "#f0f921"
            ]
           ],
           "sequentialminus": [
            [
             0,
             "#0d0887"
            ],
            [
             0.1111111111111111,
             "#46039f"
            ],
            [
             0.2222222222222222,
             "#7201a8"
            ],
            [
             0.3333333333333333,
             "#9c179e"
            ],
            [
             0.4444444444444444,
             "#bd3786"
            ],
            [
             0.5555555555555556,
             "#d8576b"
            ],
            [
             0.6666666666666666,
             "#ed7953"
            ],
            [
             0.7777777777777778,
             "#fb9f3a"
            ],
            [
             0.8888888888888888,
             "#fdca26"
            ],
            [
             1,
             "#f0f921"
            ]
           ]
          },
          "colorway": [
           "#636efa",
           "#EF553B",
           "#00cc96",
           "#ab63fa",
           "#FFA15A",
           "#19d3f3",
           "#FF6692",
           "#B6E880",
           "#FF97FF",
           "#FECB52"
          ],
          "font": {
           "color": "#2a3f5f"
          },
          "geo": {
           "bgcolor": "white",
           "lakecolor": "white",
           "landcolor": "#E5ECF6",
           "showlakes": true,
           "showland": true,
           "subunitcolor": "white"
          },
          "hoverlabel": {
           "align": "left"
          },
          "hovermode": "closest",
          "mapbox": {
           "style": "light"
          },
          "paper_bgcolor": "white",
          "plot_bgcolor": "#E5ECF6",
          "polar": {
           "angularaxis": {
            "gridcolor": "white",
            "linecolor": "white",
            "ticks": ""
           },
           "bgcolor": "#E5ECF6",
           "radialaxis": {
            "gridcolor": "white",
            "linecolor": "white",
            "ticks": ""
           }
          },
          "scene": {
           "xaxis": {
            "backgroundcolor": "#E5ECF6",
            "gridcolor": "white",
            "gridwidth": 2,
            "linecolor": "white",
            "showbackground": true,
            "ticks": "",
            "zerolinecolor": "white"
           },
           "yaxis": {
            "backgroundcolor": "#E5ECF6",
            "gridcolor": "white",
            "gridwidth": 2,
            "linecolor": "white",
            "showbackground": true,
            "ticks": "",
            "zerolinecolor": "white"
           },
           "zaxis": {
            "backgroundcolor": "#E5ECF6",
            "gridcolor": "white",
            "gridwidth": 2,
            "linecolor": "white",
            "showbackground": true,
            "ticks": "",
            "zerolinecolor": "white"
           }
          },
          "shapedefaults": {
           "line": {
            "color": "#2a3f5f"
           }
          },
          "ternary": {
           "aaxis": {
            "gridcolor": "white",
            "linecolor": "white",
            "ticks": ""
           },
           "baxis": {
            "gridcolor": "white",
            "linecolor": "white",
            "ticks": ""
           },
           "bgcolor": "#E5ECF6",
           "caxis": {
            "gridcolor": "white",
            "linecolor": "white",
            "ticks": ""
           }
          },
          "title": {
           "x": 0.05
          },
          "xaxis": {
           "automargin": true,
           "gridcolor": "white",
           "linecolor": "white",
           "ticks": "",
           "zerolinecolor": "white",
           "zerolinewidth": 2
          },
          "yaxis": {
           "automargin": true,
           "gridcolor": "white",
           "linecolor": "white",
           "ticks": "",
           "zerolinecolor": "white",
           "zerolinewidth": 2
          }
         }
        },
        "xaxis": {
         "anchor": "y",
         "categoryarray": [
          "brain-plasma",
          "in-memory",
          "pickle"
         ],
         "categoryorder": "array",
         "domain": [
          0,
          0.48
         ],
         "title": {
          "text": "method"
         }
        },
        "xaxis2": {
         "anchor": "y2",
         "categoryarray": [
          "brain-plasma",
          "in-memory",
          "pickle"
         ],
         "categoryorder": "array",
         "domain": [
          0.5,
          0.98
         ],
         "matches": "x",
         "title": {
          "text": "method"
         }
        },
        "xaxis3": {
         "anchor": "y3",
         "domain": [
          0,
          0.48
         ],
         "matches": "x",
         "showticklabels": false
        },
        "xaxis4": {
         "anchor": "y4",
         "domain": [
          0.5,
          0.98
         ],
         "matches": "x",
         "showticklabels": false
        },
        "xaxis5": {
         "anchor": "y5",
         "domain": [
          0,
          0.48
         ],
         "matches": "x",
         "showticklabels": false
        },
        "xaxis6": {
         "anchor": "y6",
         "domain": [
          0.5,
          0.98
         ],
         "matches": "x",
         "showticklabels": false
        },
        "yaxis": {
         "anchor": "x",
         "domain": [
          0,
          0.3133333333333333
         ],
         "title": {
          "text": "time"
         }
        },
        "yaxis2": {
         "anchor": "x2",
         "domain": [
          0,
          0.3133333333333333
         ],
         "matches": "y",
         "showticklabels": false
        },
        "yaxis3": {
         "anchor": "x3",
         "domain": [
          0.34333333333333327,
          0.6566666666666665
         ],
         "matches": "y",
         "title": {
          "text": "time"
         }
        },
        "yaxis4": {
         "anchor": "x4",
         "domain": [
          0.34333333333333327,
          0.6566666666666665
         ],
         "matches": "y",
         "showticklabels": false
        },
        "yaxis5": {
         "anchor": "x5",
         "domain": [
          0.6866666666666665,
          0.9999999999999998
         ],
         "matches": "y",
         "title": {
          "text": "time"
         }
        },
        "yaxis6": {
         "anchor": "x6",
         "domain": [
          0.6866666666666665,
          0.9999999999999998
         ],
         "matches": "y",
         "showticklabels": false
        }
       }
      },
      "text/html": [
       "<div>\n",
       "        \n",
       "        \n",
       "            <div id=\"7fcaba9a-b445-4e06-a3bf-550b3a5dae11\" class=\"plotly-graph-div\" style=\"height:600px; width:100%;\"></div>\n",
       "            <script type=\"text/javascript\">\n",
       "                require([\"plotly\"], function(Plotly) {\n",
       "                    window.PLOTLYENV=window.PLOTLYENV || {};\n",
       "                    \n",
       "                if (document.getElementById(\"7fcaba9a-b445-4e06-a3bf-550b3a5dae11\")) {\n",
       "                    Plotly.newPlot(\n",
       "                        '7fcaba9a-b445-4e06-a3bf-550b3a5dae11',\n",
       "                        [{\"alignmentgroup\": \"True\", \"hoverlabel\": {\"namelength\": 0}, \"hovertemplate\": \"method=%{x}<br>size=large<br>task=load<br>time=%{y}\", \"legendgroup\": \"method=brain-plasma\", \"marker\": {\"color\": \"#636efa\"}, \"name\": \"method=brain-plasma\", \"offsetgroup\": \"method=brain-plasma\", \"orientation\": \"v\", \"showlegend\": true, \"textposition\": \"auto\", \"type\": \"bar\", \"x\": [\"brain-plasma\"], \"xaxis\": \"x\", \"y\": [20.05323333333333], \"yaxis\": \"y\"}, {\"alignmentgroup\": \"True\", \"hoverlabel\": {\"namelength\": 0}, \"hovertemplate\": \"method=%{x}<br>size=large<br>task=save<br>time=%{y}\", \"legendgroup\": \"method=brain-plasma\", \"marker\": {\"color\": \"#636efa\"}, \"name\": \"method=brain-plasma\", \"offsetgroup\": \"method=brain-plasma\", \"orientation\": \"v\", \"showlegend\": false, \"textposition\": \"auto\", \"type\": \"bar\", \"x\": [\"brain-plasma\"], \"xaxis\": \"x2\", \"y\": [798.324], \"yaxis\": \"y2\"}, {\"alignmentgroup\": \"True\", \"hoverlabel\": {\"namelength\": 0}, \"hovertemplate\": \"method=%{x}<br>size=medium<br>task=load<br>time=%{y}\", \"legendgroup\": \"method=brain-plasma\", \"marker\": {\"color\": \"#636efa\"}, \"name\": \"method=brain-plasma\", \"offsetgroup\": \"method=brain-plasma\", \"orientation\": \"v\", \"showlegend\": false, \"textposition\": \"auto\", \"type\": \"bar\", \"x\": [\"brain-plasma\"], \"xaxis\": \"x3\", \"y\": [245.85669999999996], \"yaxis\": \"y3\"}, {\"alignmentgroup\": \"True\", \"hoverlabel\": {\"namelength\": 0}, \"hovertemplate\": \"method=%{x}<br>size=medium<br>task=save<br>time=%{y}\", \"legendgroup\": \"method=brain-plasma\", \"marker\": {\"color\": \"#636efa\"}, \"name\": \"method=brain-plasma\", \"offsetgroup\": \"method=brain-plasma\", \"orientation\": \"v\", \"showlegend\": false, \"textposition\": \"auto\", \"type\": \"bar\", \"x\": [\"brain-plasma\"], \"xaxis\": \"x4\", \"y\": [121.55136666666665], \"yaxis\": \"y4\"}, {\"alignmentgroup\": \"True\", \"hoverlabel\": {\"namelength\": 0}, \"hovertemplate\": \"method=%{x}<br>size=small<br>task=load<br>time=%{y}\", \"legendgroup\": \"method=brain-plasma\", \"marker\": {\"color\": \"#636efa\"}, \"name\": \"method=brain-plasma\", \"offsetgroup\": \"method=brain-plasma\", \"orientation\": \"v\", \"showlegend\": false, \"textposition\": \"auto\", \"type\": \"bar\", \"x\": [\"brain-plasma\"], \"xaxis\": \"x5\", \"y\": [1.0660333333333334], \"yaxis\": \"y5\"}, {\"alignmentgroup\": \"True\", \"hoverlabel\": {\"namelength\": 0}, \"hovertemplate\": \"method=%{x}<br>size=small<br>task=save<br>time=%{y}\", \"legendgroup\": \"method=brain-plasma\", \"marker\": {\"color\": \"#636efa\"}, \"name\": \"method=brain-plasma\", \"offsetgroup\": \"method=brain-plasma\", \"orientation\": \"v\", \"showlegend\": false, \"textposition\": \"auto\", \"type\": \"bar\", \"x\": [\"brain-plasma\"], \"xaxis\": \"x6\", \"y\": [802.9539333333333], \"yaxis\": \"y6\"}, {\"alignmentgroup\": \"True\", \"hoverlabel\": {\"namelength\": 0}, \"hovertemplate\": \"method=%{x}<br>size=large<br>task=load<br>time=%{y}\", \"legendgroup\": \"method=in-memory\", \"marker\": {\"color\": \"#EF553B\"}, \"name\": \"method=in-memory\", \"offsetgroup\": \"method=in-memory\", \"orientation\": \"v\", \"showlegend\": true, \"textposition\": \"auto\", \"type\": \"bar\", \"x\": [\"in-memory\"], \"xaxis\": \"x\", \"y\": [0.05736666666666667], \"yaxis\": \"y\"}, {\"alignmentgroup\": \"True\", \"hoverlabel\": {\"namelength\": 0}, \"hovertemplate\": \"method=%{x}<br>size=large<br>task=save<br>time=%{y}\", \"legendgroup\": \"method=in-memory\", \"marker\": {\"color\": \"#EF553B\"}, \"name\": \"method=in-memory\", \"offsetgroup\": \"method=in-memory\", \"orientation\": \"v\", \"showlegend\": false, \"textposition\": \"auto\", \"type\": \"bar\", \"x\": [\"in-memory\"], \"xaxis\": \"x2\", \"y\": [0.04800000000000001], \"yaxis\": \"y2\"}, {\"alignmentgroup\": \"True\", \"hoverlabel\": {\"namelength\": 0}, \"hovertemplate\": \"method=%{x}<br>size=medium<br>task=load<br>time=%{y}\", \"legendgroup\": \"method=in-memory\", \"marker\": {\"color\": \"#EF553B\"}, \"name\": \"method=in-memory\", \"offsetgroup\": \"method=in-memory\", \"orientation\": \"v\", \"showlegend\": false, \"textposition\": \"auto\", \"type\": \"bar\", \"x\": [\"in-memory\"], \"xaxis\": \"x3\", \"y\": [0.07893333333333334], \"yaxis\": \"y3\"}, {\"alignmentgroup\": \"True\", \"hoverlabel\": {\"namelength\": 0}, \"hovertemplate\": \"method=%{x}<br>size=medium<br>task=save<br>time=%{y}\", \"legendgroup\": \"method=in-memory\", \"marker\": {\"color\": \"#EF553B\"}, \"name\": \"method=in-memory\", \"offsetgroup\": \"method=in-memory\", \"orientation\": \"v\", \"showlegend\": false, \"textposition\": \"auto\", \"type\": \"bar\", \"x\": [\"in-memory\"], \"xaxis\": \"x4\", \"y\": [0.11863333333333333], \"yaxis\": \"y4\"}, {\"alignmentgroup\": \"True\", \"hoverlabel\": {\"namelength\": 0}, \"hovertemplate\": \"method=%{x}<br>size=small<br>task=load<br>time=%{y}\", \"legendgroup\": \"method=in-memory\", \"marker\": {\"color\": \"#EF553B\"}, \"name\": \"method=in-memory\", \"offsetgroup\": \"method=in-memory\", \"orientation\": \"v\", \"showlegend\": false, \"textposition\": \"auto\", \"type\": \"bar\", \"x\": [\"in-memory\"], \"xaxis\": \"x5\", \"y\": [0.24773333333333336], \"yaxis\": \"y5\"}, {\"alignmentgroup\": \"True\", \"hoverlabel\": {\"namelength\": 0}, \"hovertemplate\": \"method=%{x}<br>size=small<br>task=save<br>time=%{y}\", \"legendgroup\": \"method=in-memory\", \"marker\": {\"color\": \"#EF553B\"}, \"name\": \"method=in-memory\", \"offsetgroup\": \"method=in-memory\", \"orientation\": \"v\", \"showlegend\": false, \"textposition\": \"auto\", \"type\": \"bar\", \"x\": [\"in-memory\"], \"xaxis\": \"x6\", \"y\": [0.05076666666666666], \"yaxis\": \"y6\"}, {\"alignmentgroup\": \"True\", \"hoverlabel\": {\"namelength\": 0}, \"hovertemplate\": \"method=%{x}<br>size=large<br>task=load<br>time=%{y}\", \"legendgroup\": \"method=pickle\", \"marker\": {\"color\": \"#00cc96\"}, \"name\": \"method=pickle\", \"offsetgroup\": \"method=pickle\", \"orientation\": \"v\", \"showlegend\": true, \"textposition\": \"auto\", \"type\": \"bar\", \"x\": [\"pickle\"], \"xaxis\": \"x\", \"y\": [934.5750333333332], \"yaxis\": \"y\"}, {\"alignmentgroup\": \"True\", \"hoverlabel\": {\"namelength\": 0}, \"hovertemplate\": \"method=%{x}<br>size=large<br>task=save<br>time=%{y}\", \"legendgroup\": \"method=pickle\", \"marker\": {\"color\": \"#00cc96\"}, \"name\": \"method=pickle\", \"offsetgroup\": \"method=pickle\", \"orientation\": \"v\", \"showlegend\": false, \"textposition\": \"auto\", \"type\": \"bar\", \"x\": [\"pickle\"], \"xaxis\": \"x2\", \"y\": [3018.3553666666667], \"yaxis\": \"y2\"}, {\"alignmentgroup\": \"True\", \"hoverlabel\": {\"namelength\": 0}, \"hovertemplate\": \"method=%{x}<br>size=medium<br>task=load<br>time=%{y}\", \"legendgroup\": \"method=pickle\", \"marker\": {\"color\": \"#00cc96\"}, \"name\": \"method=pickle\", \"offsetgroup\": \"method=pickle\", \"orientation\": \"v\", \"showlegend\": false, \"textposition\": \"auto\", \"type\": \"bar\", \"x\": [\"pickle\"], \"xaxis\": \"x3\", \"y\": [0.6913999999999999], \"yaxis\": \"y3\"}, {\"alignmentgroup\": \"True\", \"hoverlabel\": {\"namelength\": 0}, \"hovertemplate\": \"method=%{x}<br>size=medium<br>task=save<br>time=%{y}\", \"legendgroup\": \"method=pickle\", \"marker\": {\"color\": \"#00cc96\"}, \"name\": \"method=pickle\", \"offsetgroup\": \"method=pickle\", \"orientation\": \"v\", \"showlegend\": false, \"textposition\": \"auto\", \"type\": \"bar\", \"x\": [\"pickle\"], \"xaxis\": \"x4\", \"y\": [0.8370000000000001], \"yaxis\": \"y4\"}, {\"alignmentgroup\": \"True\", \"hoverlabel\": {\"namelength\": 0}, \"hovertemplate\": \"method=%{x}<br>size=small<br>task=load<br>time=%{y}\", \"legendgroup\": \"method=pickle\", \"marker\": {\"color\": \"#00cc96\"}, \"name\": \"method=pickle\", \"offsetgroup\": \"method=pickle\", \"orientation\": \"v\", \"showlegend\": false, \"textposition\": \"auto\", \"type\": \"bar\", \"x\": [\"pickle\"], \"xaxis\": \"x5\", \"y\": [0.41040000000000004], \"yaxis\": \"y5\"}, {\"alignmentgroup\": \"True\", \"hoverlabel\": {\"namelength\": 0}, \"hovertemplate\": \"method=%{x}<br>size=small<br>task=save<br>time=%{y}\", \"legendgroup\": \"method=pickle\", \"marker\": {\"color\": \"#00cc96\"}, \"name\": \"method=pickle\", \"offsetgroup\": \"method=pickle\", \"orientation\": \"v\", \"showlegend\": false, \"textposition\": \"auto\", \"type\": \"bar\", \"x\": [\"pickle\"], \"xaxis\": \"x6\", \"y\": [0.5652666666666667], \"yaxis\": \"y6\"}],\n",
       "                        {\"annotations\": [{\"font\": {}, \"showarrow\": false, \"text\": \"task=load\", \"x\": 0.24, \"xanchor\": \"center\", \"xref\": \"paper\", \"y\": 0.9999999999999998, \"yanchor\": \"bottom\", \"yref\": \"paper\"}, {\"font\": {}, \"showarrow\": false, \"text\": \"task=save\", \"x\": 0.74, \"xanchor\": \"center\", \"xref\": \"paper\", \"y\": 0.9999999999999998, \"yanchor\": \"bottom\", \"yref\": \"paper\"}, {\"font\": {}, \"showarrow\": false, \"text\": \"size=small\", \"textangle\": 90, \"x\": 0.98, \"xanchor\": \"left\", \"xref\": \"paper\", \"y\": 0.15666666666666665, \"yanchor\": \"middle\", \"yref\": \"paper\"}, {\"font\": {}, \"showarrow\": false, \"text\": \"size=medium\", \"textangle\": 90, \"x\": 0.98, \"xanchor\": \"left\", \"xref\": \"paper\", \"y\": 0.4999999999999999, \"yanchor\": \"middle\", \"yref\": \"paper\"}, {\"font\": {}, \"showarrow\": false, \"text\": \"size=large\", \"textangle\": 90, \"x\": 0.98, \"xanchor\": \"left\", \"xref\": \"paper\", \"y\": 0.8433333333333332, \"yanchor\": \"middle\", \"yref\": \"paper\"}], \"barmode\": \"relative\", \"height\": 600, \"legend\": {\"tracegroupgap\": 0}, \"margin\": {\"t\": 60}, \"template\": {\"data\": {\"bar\": [{\"error_x\": {\"color\": \"#2a3f5f\"}, \"error_y\": {\"color\": \"#2a3f5f\"}, \"marker\": {\"line\": {\"color\": \"#E5ECF6\", \"width\": 0.5}}, \"type\": \"bar\"}], \"barpolar\": [{\"marker\": {\"line\": {\"color\": \"#E5ECF6\", \"width\": 0.5}}, \"type\": \"barpolar\"}], \"carpet\": [{\"aaxis\": {\"endlinecolor\": \"#2a3f5f\", \"gridcolor\": \"white\", \"linecolor\": \"white\", \"minorgridcolor\": \"white\", \"startlinecolor\": \"#2a3f5f\"}, \"baxis\": {\"endlinecolor\": \"#2a3f5f\", \"gridcolor\": \"white\", \"linecolor\": \"white\", \"minorgridcolor\": \"white\", \"startlinecolor\": \"#2a3f5f\"}, \"type\": \"carpet\"}], \"choropleth\": [{\"colorbar\": {\"outlinewidth\": 0, \"ticks\": \"\"}, \"type\": \"choropleth\"}], \"contour\": [{\"colorbar\": {\"outlinewidth\": 0, \"ticks\": \"\"}, \"colorscale\": [[0.0, \"#0d0887\"], [0.1111111111111111, \"#46039f\"], [0.2222222222222222, \"#7201a8\"], [0.3333333333333333, \"#9c179e\"], [0.4444444444444444, \"#bd3786\"], [0.5555555555555556, \"#d8576b\"], [0.6666666666666666, \"#ed7953\"], [0.7777777777777778, \"#fb9f3a\"], [0.8888888888888888, \"#fdca26\"], [1.0, \"#f0f921\"]], \"type\": \"contour\"}], \"contourcarpet\": [{\"colorbar\": {\"outlinewidth\": 0, \"ticks\": \"\"}, \"type\": \"contourcarpet\"}], \"heatmap\": [{\"colorbar\": {\"outlinewidth\": 0, \"ticks\": \"\"}, \"colorscale\": [[0.0, \"#0d0887\"], [0.1111111111111111, \"#46039f\"], [0.2222222222222222, \"#7201a8\"], [0.3333333333333333, \"#9c179e\"], [0.4444444444444444, \"#bd3786\"], [0.5555555555555556, \"#d8576b\"], [0.6666666666666666, \"#ed7953\"], [0.7777777777777778, \"#fb9f3a\"], [0.8888888888888888, \"#fdca26\"], [1.0, \"#f0f921\"]], \"type\": \"heatmap\"}], \"heatmapgl\": [{\"colorbar\": {\"outlinewidth\": 0, \"ticks\": \"\"}, \"colorscale\": [[0.0, \"#0d0887\"], [0.1111111111111111, \"#46039f\"], [0.2222222222222222, \"#7201a8\"], [0.3333333333333333, \"#9c179e\"], [0.4444444444444444, \"#bd3786\"], [0.5555555555555556, \"#d8576b\"], [0.6666666666666666, \"#ed7953\"], [0.7777777777777778, \"#fb9f3a\"], [0.8888888888888888, \"#fdca26\"], [1.0, \"#f0f921\"]], \"type\": \"heatmapgl\"}], \"histogram\": [{\"marker\": {\"colorbar\": {\"outlinewidth\": 0, \"ticks\": \"\"}}, \"type\": \"histogram\"}], \"histogram2d\": [{\"colorbar\": {\"outlinewidth\": 0, \"ticks\": \"\"}, \"colorscale\": [[0.0, \"#0d0887\"], [0.1111111111111111, \"#46039f\"], [0.2222222222222222, \"#7201a8\"], [0.3333333333333333, \"#9c179e\"], [0.4444444444444444, \"#bd3786\"], [0.5555555555555556, \"#d8576b\"], [0.6666666666666666, \"#ed7953\"], [0.7777777777777778, \"#fb9f3a\"], [0.8888888888888888, \"#fdca26\"], [1.0, \"#f0f921\"]], \"type\": \"histogram2d\"}], \"histogram2dcontour\": [{\"colorbar\": {\"outlinewidth\": 0, \"ticks\": \"\"}, \"colorscale\": [[0.0, \"#0d0887\"], [0.1111111111111111, \"#46039f\"], [0.2222222222222222, \"#7201a8\"], [0.3333333333333333, \"#9c179e\"], [0.4444444444444444, \"#bd3786\"], [0.5555555555555556, \"#d8576b\"], [0.6666666666666666, \"#ed7953\"], [0.7777777777777778, \"#fb9f3a\"], [0.8888888888888888, \"#fdca26\"], [1.0, \"#f0f921\"]], \"type\": \"histogram2dcontour\"}], \"mesh3d\": [{\"colorbar\": {\"outlinewidth\": 0, \"ticks\": \"\"}, \"type\": \"mesh3d\"}], \"parcoords\": [{\"line\": {\"colorbar\": {\"outlinewidth\": 0, \"ticks\": \"\"}}, \"type\": \"parcoords\"}], \"scatter\": [{\"marker\": {\"colorbar\": {\"outlinewidth\": 0, \"ticks\": \"\"}}, \"type\": \"scatter\"}], \"scatter3d\": [{\"line\": {\"colorbar\": {\"outlinewidth\": 0, \"ticks\": \"\"}}, \"marker\": {\"colorbar\": {\"outlinewidth\": 0, \"ticks\": \"\"}}, \"type\": \"scatter3d\"}], \"scattercarpet\": [{\"marker\": {\"colorbar\": {\"outlinewidth\": 0, \"ticks\": \"\"}}, \"type\": \"scattercarpet\"}], \"scattergeo\": [{\"marker\": {\"colorbar\": {\"outlinewidth\": 0, \"ticks\": \"\"}}, \"type\": \"scattergeo\"}], \"scattergl\": [{\"marker\": {\"colorbar\": {\"outlinewidth\": 0, \"ticks\": \"\"}}, \"type\": \"scattergl\"}], \"scattermapbox\": [{\"marker\": {\"colorbar\": {\"outlinewidth\": 0, \"ticks\": \"\"}}, \"type\": \"scattermapbox\"}], \"scatterpolar\": [{\"marker\": {\"colorbar\": {\"outlinewidth\": 0, \"ticks\": \"\"}}, \"type\": \"scatterpolar\"}], \"scatterpolargl\": [{\"marker\": {\"colorbar\": {\"outlinewidth\": 0, \"ticks\": \"\"}}, \"type\": \"scatterpolargl\"}], \"scatterternary\": [{\"marker\": {\"colorbar\": {\"outlinewidth\": 0, \"ticks\": \"\"}}, \"type\": \"scatterternary\"}], \"surface\": [{\"colorbar\": {\"outlinewidth\": 0, \"ticks\": \"\"}, \"colorscale\": [[0.0, \"#0d0887\"], [0.1111111111111111, \"#46039f\"], [0.2222222222222222, \"#7201a8\"], [0.3333333333333333, \"#9c179e\"], [0.4444444444444444, \"#bd3786\"], [0.5555555555555556, \"#d8576b\"], [0.6666666666666666, \"#ed7953\"], [0.7777777777777778, \"#fb9f3a\"], [0.8888888888888888, \"#fdca26\"], [1.0, \"#f0f921\"]], \"type\": \"surface\"}], \"table\": [{\"cells\": {\"fill\": {\"color\": \"#EBF0F8\"}, \"line\": {\"color\": \"white\"}}, \"header\": {\"fill\": {\"color\": \"#C8D4E3\"}, \"line\": {\"color\": \"white\"}}, \"type\": \"table\"}]}, \"layout\": {\"annotationdefaults\": {\"arrowcolor\": \"#2a3f5f\", \"arrowhead\": 0, \"arrowwidth\": 1}, \"colorscale\": {\"diverging\": [[0, \"#8e0152\"], [0.1, \"#c51b7d\"], [0.2, \"#de77ae\"], [0.3, \"#f1b6da\"], [0.4, \"#fde0ef\"], [0.5, \"#f7f7f7\"], [0.6, \"#e6f5d0\"], [0.7, \"#b8e186\"], [0.8, \"#7fbc41\"], [0.9, \"#4d9221\"], [1, \"#276419\"]], \"sequential\": [[0.0, \"#0d0887\"], [0.1111111111111111, \"#46039f\"], [0.2222222222222222, \"#7201a8\"], [0.3333333333333333, \"#9c179e\"], [0.4444444444444444, \"#bd3786\"], [0.5555555555555556, \"#d8576b\"], [0.6666666666666666, \"#ed7953\"], [0.7777777777777778, \"#fb9f3a\"], [0.8888888888888888, \"#fdca26\"], [1.0, \"#f0f921\"]], \"sequentialminus\": [[0.0, \"#0d0887\"], [0.1111111111111111, \"#46039f\"], [0.2222222222222222, \"#7201a8\"], [0.3333333333333333, \"#9c179e\"], [0.4444444444444444, \"#bd3786\"], [0.5555555555555556, \"#d8576b\"], [0.6666666666666666, \"#ed7953\"], [0.7777777777777778, \"#fb9f3a\"], [0.8888888888888888, \"#fdca26\"], [1.0, \"#f0f921\"]]}, \"colorway\": [\"#636efa\", \"#EF553B\", \"#00cc96\", \"#ab63fa\", \"#FFA15A\", \"#19d3f3\", \"#FF6692\", \"#B6E880\", \"#FF97FF\", \"#FECB52\"], \"font\": {\"color\": \"#2a3f5f\"}, \"geo\": {\"bgcolor\": \"white\", \"lakecolor\": \"white\", \"landcolor\": \"#E5ECF6\", \"showlakes\": true, \"showland\": true, \"subunitcolor\": \"white\"}, \"hoverlabel\": {\"align\": \"left\"}, \"hovermode\": \"closest\", \"mapbox\": {\"style\": \"light\"}, \"paper_bgcolor\": \"white\", \"plot_bgcolor\": \"#E5ECF6\", \"polar\": {\"angularaxis\": {\"gridcolor\": \"white\", \"linecolor\": \"white\", \"ticks\": \"\"}, \"bgcolor\": \"#E5ECF6\", \"radialaxis\": {\"gridcolor\": \"white\", \"linecolor\": \"white\", \"ticks\": \"\"}}, \"scene\": {\"xaxis\": {\"backgroundcolor\": \"#E5ECF6\", \"gridcolor\": \"white\", \"gridwidth\": 2, \"linecolor\": \"white\", \"showbackground\": true, \"ticks\": \"\", \"zerolinecolor\": \"white\"}, \"yaxis\": {\"backgroundcolor\": \"#E5ECF6\", \"gridcolor\": \"white\", \"gridwidth\": 2, \"linecolor\": \"white\", \"showbackground\": true, \"ticks\": \"\", \"zerolinecolor\": \"white\"}, \"zaxis\": {\"backgroundcolor\": \"#E5ECF6\", \"gridcolor\": \"white\", \"gridwidth\": 2, \"linecolor\": \"white\", \"showbackground\": true, \"ticks\": \"\", \"zerolinecolor\": \"white\"}}, \"shapedefaults\": {\"line\": {\"color\": \"#2a3f5f\"}}, \"ternary\": {\"aaxis\": {\"gridcolor\": \"white\", \"linecolor\": \"white\", \"ticks\": \"\"}, \"baxis\": {\"gridcolor\": \"white\", \"linecolor\": \"white\", \"ticks\": \"\"}, \"bgcolor\": \"#E5ECF6\", \"caxis\": {\"gridcolor\": \"white\", \"linecolor\": \"white\", \"ticks\": \"\"}}, \"title\": {\"x\": 0.05}, \"xaxis\": {\"automargin\": true, \"gridcolor\": \"white\", \"linecolor\": \"white\", \"ticks\": \"\", \"zerolinecolor\": \"white\", \"zerolinewidth\": 2}, \"yaxis\": {\"automargin\": true, \"gridcolor\": \"white\", \"linecolor\": \"white\", \"ticks\": \"\", \"zerolinecolor\": \"white\", \"zerolinewidth\": 2}}}, \"xaxis\": {\"anchor\": \"y\", \"categoryarray\": [\"brain-plasma\", \"in-memory\", \"pickle\"], \"categoryorder\": \"array\", \"domain\": [0.0, 0.48], \"title\": {\"text\": \"method\"}}, \"xaxis2\": {\"anchor\": \"y2\", \"categoryarray\": [\"brain-plasma\", \"in-memory\", \"pickle\"], \"categoryorder\": \"array\", \"domain\": [0.5, 0.98], \"matches\": \"x\", \"title\": {\"text\": \"method\"}}, \"xaxis3\": {\"anchor\": \"y3\", \"domain\": [0.0, 0.48], \"matches\": \"x\", \"showticklabels\": false}, \"xaxis4\": {\"anchor\": \"y4\", \"domain\": [0.5, 0.98], \"matches\": \"x\", \"showticklabels\": false}, \"xaxis5\": {\"anchor\": \"y5\", \"domain\": [0.0, 0.48], \"matches\": \"x\", \"showticklabels\": false}, \"xaxis6\": {\"anchor\": \"y6\", \"domain\": [0.5, 0.98], \"matches\": \"x\", \"showticklabels\": false}, \"yaxis\": {\"anchor\": \"x\", \"domain\": [0.0, 0.3133333333333333], \"title\": {\"text\": \"time\"}}, \"yaxis2\": {\"anchor\": \"x2\", \"domain\": [0.0, 0.3133333333333333], \"matches\": \"y\", \"showticklabels\": false}, \"yaxis3\": {\"anchor\": \"x3\", \"domain\": [0.34333333333333327, 0.6566666666666665], \"matches\": \"y\", \"title\": {\"text\": \"time\"}}, \"yaxis4\": {\"anchor\": \"x4\", \"domain\": [0.34333333333333327, 0.6566666666666665], \"matches\": \"y\", \"showticklabels\": false}, \"yaxis5\": {\"anchor\": \"x5\", \"domain\": [0.6866666666666665, 0.9999999999999998], \"matches\": \"y\", \"title\": {\"text\": \"time\"}}, \"yaxis6\": {\"anchor\": \"x6\", \"domain\": [0.6866666666666665, 0.9999999999999998], \"matches\": \"y\", \"showticklabels\": false}},\n",
       "                        {\"responsive\": true}\n",
       "                    ).then(function(){\n",
       "                            \n",
       "var gd = document.getElementById('7fcaba9a-b445-4e06-a3bf-550b3a5dae11');\n",
       "var x = new MutationObserver(function (mutations, observer) {{\n",
       "        var display = window.getComputedStyle(gd).display;\n",
       "        if (!display || display === 'none') {{\n",
       "            console.log([gd, 'removed!']);\n",
       "            Plotly.purge(gd);\n",
       "            observer.disconnect();\n",
       "        }}\n",
       "}});\n",
       "\n",
       "// Listen for the removal of the full notebook cells\n",
       "var notebookContainer = gd.closest('#notebook-container');\n",
       "if (notebookContainer) {{\n",
       "    x.observe(notebookContainer, {childList: true});\n",
       "}}\n",
       "\n",
       "// Listen for the clearing of the current output cell\n",
       "var outputEl = gd.closest('.output');\n",
       "if (outputEl) {{\n",
       "    x.observe(outputEl, {childList: true});\n",
       "}}\n",
       "\n",
       "                        })\n",
       "                };\n",
       "                });\n",
       "            </script>\n",
       "        </div>"
      ]
     },
     "metadata": {},
     "output_type": "display_data"
    }
   ],
   "source": [
    "px.bar(compare,x='method',y='time',facet_col='task',color='method',facet_row='size')"
   ]
  },
  {
   "cell_type": "code",
   "execution_count": null,
   "metadata": {},
   "outputs": [],
   "source": []
  }
 ],
 "metadata": {
  "kernelspec": {
   "display_name": "Python 3",
   "language": "python",
   "name": "python3"
  },
  "language_info": {
   "codemirror_mode": {
    "name": "ipython",
    "version": 3
   },
   "file_extension": ".py",
   "mimetype": "text/x-python",
   "name": "python",
   "nbconvert_exporter": "python",
   "pygments_lexer": "ipython3",
   "version": "3.6.7"
  }
 },
 "nbformat": 4,
 "nbformat_minor": 4
}
